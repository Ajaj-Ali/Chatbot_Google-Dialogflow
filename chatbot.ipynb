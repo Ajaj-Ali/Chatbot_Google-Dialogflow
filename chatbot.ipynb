{
 "cells": [
  {
   "cell_type": "code",
   "execution_count": null,
   "metadata": {},
   "outputs": [],
   "source": [
    "import os\n",
    "import json\n",
    "import google.auth\n",
    "from google.cloud import dialogflow\n",
    "from google.auth import credentials"
   ]
  },
  {
   "cell_type": "code",
   "execution_count": null,
   "metadata": {},
   "outputs": [],
   "source": [
    "creds = google.auth.load_credentials_from_file('xxxxxxxx.json')"
   ]
  },
  {
   "cell_type": "code",
   "execution_count": null,
   "metadata": {},
   "outputs": [],
   "source": [
    "project_id = 'xxxxxxxxxxx'"
   ]
  },
  {
   "cell_type": "code",
   "execution_count": null,
   "metadata": {},
   "outputs": [],
   "source": [
    "dialogflow_client = dialogflow.SessionsClient(credentials=creds)\n",
    "session_name = dialogflow_client.session_path(project_id)"
   ]
  },
  {
   "cell_type": "code",
   "execution_count": null,
   "metadata": {},
   "outputs": [],
   "source": [
    "def handle_user_input(input_text):\n",
    "      response = dialogflow_client.detect_intent(\n",
    "            request={'query_input': {'text': input_text}}\n",
    "            )\n",
    "      return response.query_result.fulfillment_text\n",
    "\n",
    "\n",
    "while True:\n",
    "      user_input = input(\"You: \")\n",
    "      response = handle_user_input(user_input)\n",
    "      print(\"Chatbot:\", response)"
   ]
  },
  {
   "cell_type": "code",
   "execution_count": null,
   "metadata": {},
   "outputs": [],
   "source": []
  }
 ],
 "metadata": {
  "kernelspec": {
   "display_name": "base",
   "language": "python",
   "name": "python3"
  },
  "language_info": {
   "codemirror_mode": {
    "name": "ipython",
    "version": 3
   },
   "file_extension": ".py",
   "mimetype": "text/x-python",
   "name": "python",
   "nbconvert_exporter": "python",
   "pygments_lexer": "ipython3",
   "version": "3.12.2"
  }
 },
 "nbformat": 4,
 "nbformat_minor": 2
}
